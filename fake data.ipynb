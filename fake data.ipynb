{
 "cells": [
  {
   "cell_type": "code",
   "execution_count": 1,
   "id": "d8cde134",
   "metadata": {},
   "outputs": [
    {
     "name": "stdout",
     "output_type": "stream",
     "text": [
      "Fake Name: William Dodson Jr.\n"
     ]
    }
   ],
   "source": [
    "from faker import Faker\n",
    "faker = Faker()\n",
    "fakename = faker.name()\n",
    "print(\"Fake Name:\",fakename)"
   ]
  },
  {
   "cell_type": "code",
   "execution_count": 4,
   "id": "0ce195e7",
   "metadata": {},
   "outputs": [
    {
     "name": "stdout",
     "output_type": "stream",
     "text": [
      "Fake Address: 521 Fowler Plaza\n",
      "Port Nicholasborough, NE 92201\n"
     ]
    }
   ],
   "source": [
    "from faker import Faker\n",
    "faker = Faker()\n",
    "fakeaddress = faker.address()\n",
    "print(\"Fake Address:\",fakeaddress)"
   ]
  },
  {
   "cell_type": "code",
   "execution_count": 5,
   "id": "350cb750",
   "metadata": {},
   "outputs": [
    {
     "name": "stdout",
     "output_type": "stream",
     "text": [
      "Faker Mail: stephenriley@example.org\n"
     ]
    }
   ],
   "source": [
    "from faker import Faker\n",
    "faker=Faker()\n",
    "fakeremail=faker.email()\n",
    "print(\"Faker Mail:\",fakeremail)"
   ]
  },
  {
   "cell_type": "code",
   "execution_count": 9,
   "id": "f9f85a6d",
   "metadata": {},
   "outputs": [
    {
     "name": "stdout",
     "output_type": "stream",
     "text": [
      "Fake Text: Score able clear.\n",
      "Word although name smile TV drive forget. Through just something when born. Visit office much.\n",
      "Later rest whole thing number past factor. Return nature process whatever its soon.\n"
     ]
    }
   ],
   "source": [
    "from faker import Faker\n",
    "faker=Faker()\n",
    "fakertext=faker.text()\n",
    "print(\"Fake Text:\",fakertext)"
   ]
  },
  {
   "cell_type": "code",
   "execution_count": 12,
   "id": "cd8cae25",
   "metadata": {},
   "outputs": [
    {
     "name": "stdout",
     "output_type": "stream",
     "text": [
      "Fake Date of Birth: 1998-12-16\n"
     ]
    }
   ],
   "source": [
    "from faker import Faker\n",
    "faker=Faker()\n",
    "fakerdate_of_birth=faker.date()\n",
    "print(\"Fake Date of Birth:\",fakerdate_of_birth)"
   ]
  },
  {
   "cell_type": "code",
   "execution_count": 13,
   "id": "c8822220",
   "metadata": {},
   "outputs": [
    {
     "name": "stdout",
     "output_type": "stream",
     "text": [
      "Fake Profile: {'job': 'Psychologist, prison and probation services', 'company': 'Delacruz-Franklin', 'ssn': '084-44-1451', 'residence': '40047 Daniel Fork Apt. 131\\nNorth Joshua, MP 43244', 'current_location': (Decimal('56.4872785'), Decimal('-79.945749')), 'blood_group': 'O+', 'website': ['http://gonzalez.com/', 'https://www.thompson.com/', 'http://walsh-rodriguez.com/'], 'username': 'xterrell', 'name': 'Natalie Kim', 'sex': 'F', 'address': '977 Rachel Harbors Apt. 264\\nWilsonmouth, KS 71391', 'mail': 'egreer@hotmail.com', 'birthdate': datetime.date(1914, 7, 22)}\n"
     ]
    }
   ],
   "source": [
    "from faker import Faker\n",
    "faker=Faker()\n",
    "fakerprofile = faker.profile()\n",
    "print(\"Fake Profile:\",fakerprofile)"
   ]
  },
  {
   "cell_type": "code",
   "execution_count": 18,
   "id": "4d30fc46",
   "metadata": {},
   "outputs": [
    {
     "name": "stdout",
     "output_type": "stream",
     "text": [
      "Instagram Server Status: Server is up and running.\n",
      "Facebook Server Status: Server is up and running.\n"
     ]
    }
   ],
   "source": [
    "import requests\n",
    "\n",
    "def check_server_status(url):\n",
    "    try:\n",
    "        response = requests.get(url)\n",
    "        if response.status_code == 200:\n",
    "            return \"Server is up and running.\"\n",
    "        else:\n",
    "            return f\"Server is down with status code: {response.status_code}\"\n",
    "    except requests.ConnectionError:\n",
    "        return \"Could not connect to server. It may be down or unreachable.\"\n",
    "\n",
    "# Example usage\n",
    "instagram_url = \"https://www.instagram.com/\"\n",
    "facebook_url = \"https://www.facebook.com/\"\n",
    "\n",
    "print(\"Instagram Server Status:\", check_server_status(instagram_url))\n",
    "print(\"Facebook Server Status:\", check_server_status(facebook_url))\n"
   ]
  },
  {
   "cell_type": "code",
   "execution_count": null,
   "id": "7bf62cac",
   "metadata": {},
   "outputs": [],
   "source": []
  }
 ],
 "metadata": {
  "kernelspec": {
   "display_name": "Python 3 (ipykernel)",
   "language": "python",
   "name": "python3"
  },
  "language_info": {
   "codemirror_mode": {
    "name": "ipython",
    "version": 3
   },
   "file_extension": ".py",
   "mimetype": "text/x-python",
   "name": "python",
   "nbconvert_exporter": "python",
   "pygments_lexer": "ipython3",
   "version": "3.11.5"
  }
 },
 "nbformat": 4,
 "nbformat_minor": 5
}
