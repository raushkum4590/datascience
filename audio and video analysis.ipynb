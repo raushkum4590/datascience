{
 "cells": [
  {
   "cell_type": "code",
   "execution_count": 7,
   "id": "8d96cbf7",
   "metadata": {},
   "outputs": [
    {
     "name": "stdout",
     "output_type": "stream",
     "text": [
      "Download Completed\n"
     ]
    }
   ],
   "source": [
    "from pytube import YouTube\n",
    "\n",
    "video_url = 'https://youtu.be/jcOKU9f86XE?si=91-e30QkkHE60OXs'\n",
    "yt = YouTube(video_url)\n",
    "stream = yt.streams.get_highest_resolution()\n",
    "stream.download()\n",
    "print('Download Completed')\n"
   ]
  },
  {
   "cell_type": "code",
   "execution_count": 10,
   "id": "5a03dc44",
   "metadata": {},
   "outputs": [
    {
     "name": "stdout",
     "output_type": "stream",
     "text": [
      "Title: Chat Application using React JS - Build and Deploy a Chat App in 1 Hour (Microsoft Teams)\n",
      "Descripton: LEARN: Sockets, Rest APIs, Sending Images, React Hooks, Props, and CSS!\n",
      "\n",
      "This course breaks down everything you need to know to create a React Chat App. With online statuses, great design and functionality, icons telling you who read the message, image support, sound notifications, the ability to create multiple rooms, and much more, this chat app is like no other that you can currently find on YouTube.\n",
      "\n",
      "Backend is hosted by https://chatengine.io \n",
      "Components are made by https://npmjs.com/package/react-chat-engine \n",
      "\n",
      "💻JS Mastery Pro - https://jsmastery.pro?discount=youtube\n",
      "✅ A special YOUTUBE discount code is automatically applied!\n",
      "\n",
      "📧 Join our JavaScript Mastery's Newsletter on Web Development, JavaScript & React to get exclusive programming guides, tips & tricks, and entire e-books: https://resource.jsmastery.pro/newsletter🔥\n",
      "\n",
      "📚 Materials/References:\n",
      "GitHub Code (feel free to give it a star ⭐)  - https://github.com/adrianhajdin/chat_application\n",
      "Styles - https://gist.github.com/adrianhajdin/c3a3195dd091359f3402a572961abb98\n",
      "\n",
      "⭐Hostinger is my personal recommendation for hosting - https://www.hostinger.com/javascriptmastery\n",
      "Use the code JAVASCRIPTMASTERY to save up to 91% on all yearly hosting plans.\n",
      "\n",
      "💼 Business Inquiries: javascriptmastery00@gmail.com\n",
      "\n",
      "🌎 Find Me Here:\n",
      "Discord Group: https://discord.gg/n6EdbFJ\n",
      "Instagram: https://instagram.com/javascriptmastery\n",
      "Twitter: https://twitter.com/JS_Mastery\n",
      "BuyMeACoffe: https://www.buymeacoffee.com/JSMastery\n",
      "\n",
      "#socketio #chatapp\n",
      "Thumbnail URL: https://i.ytimg.com/vi/jcOKU9f86XE/sddefault.jpg\n",
      "Views: 1022451\n",
      "Length: 4207\n"
     ]
    }
   ],
   "source": [
    "print(\"Title:\",yt.title)\n",
    "print(\"Descripton:\",yt.description)\n",
    "print(\"Thumbnail URL:\",yt.thumbnail_url)\n",
    "print(\"Views:\",yt.views)\n",
    "print(\"Length:\",yt.length)\n"
   ]
  },
  {
   "cell_type": "code",
   "execution_count": 11,
   "id": "b6c8e01a",
   "metadata": {},
   "outputs": [
    {
     "name": "stdout",
     "output_type": "stream",
     "text": [
      "<Stream: itag=\"18\" mime_type=\"video/mp4\" res=\"360p\" fps=\"30fps\" vcodec=\"avc1.42001E\" acodec=\"mp4a.40.2\" progressive=\"True\" type=\"video\">\n",
      "<Stream: itag=\"22\" mime_type=\"video/mp4\" res=\"720p\" fps=\"30fps\" vcodec=\"avc1.64001F\" acodec=\"mp4a.40.2\" progressive=\"True\" type=\"video\">\n",
      "<Stream: itag=\"136\" mime_type=\"video/mp4\" res=\"720p\" fps=\"30fps\" vcodec=\"avc1.4d401f\" progressive=\"False\" type=\"video\">\n",
      "<Stream: itag=\"247\" mime_type=\"video/webm\" res=\"720p\" fps=\"30fps\" vcodec=\"vp9\" progressive=\"False\" type=\"video\">\n",
      "<Stream: itag=\"135\" mime_type=\"video/mp4\" res=\"480p\" fps=\"30fps\" vcodec=\"avc1.4d401f\" progressive=\"False\" type=\"video\">\n",
      "<Stream: itag=\"244\" mime_type=\"video/webm\" res=\"480p\" fps=\"30fps\" vcodec=\"vp9\" progressive=\"False\" type=\"video\">\n",
      "<Stream: itag=\"134\" mime_type=\"video/mp4\" res=\"360p\" fps=\"30fps\" vcodec=\"avc1.4d401e\" progressive=\"False\" type=\"video\">\n",
      "<Stream: itag=\"243\" mime_type=\"video/webm\" res=\"360p\" fps=\"30fps\" vcodec=\"vp9\" progressive=\"False\" type=\"video\">\n",
      "<Stream: itag=\"133\" mime_type=\"video/mp4\" res=\"240p\" fps=\"30fps\" vcodec=\"avc1.4d4015\" progressive=\"False\" type=\"video\">\n",
      "<Stream: itag=\"242\" mime_type=\"video/webm\" res=\"240p\" fps=\"30fps\" vcodec=\"vp9\" progressive=\"False\" type=\"video\">\n",
      "<Stream: itag=\"160\" mime_type=\"video/mp4\" res=\"144p\" fps=\"30fps\" vcodec=\"avc1.4d400c\" progressive=\"False\" type=\"video\">\n",
      "<Stream: itag=\"278\" mime_type=\"video/webm\" res=\"144p\" fps=\"30fps\" vcodec=\"vp9\" progressive=\"False\" type=\"video\">\n",
      "<Stream: itag=\"139\" mime_type=\"audio/mp4\" abr=\"48kbps\" acodec=\"mp4a.40.5\" progressive=\"False\" type=\"audio\">\n",
      "<Stream: itag=\"140\" mime_type=\"audio/mp4\" abr=\"128kbps\" acodec=\"mp4a.40.2\" progressive=\"False\" type=\"audio\">\n",
      "<Stream: itag=\"249\" mime_type=\"audio/webm\" abr=\"50kbps\" acodec=\"opus\" progressive=\"False\" type=\"audio\">\n",
      "<Stream: itag=\"250\" mime_type=\"audio/webm\" abr=\"70kbps\" acodec=\"opus\" progressive=\"False\" type=\"audio\">\n",
      "<Stream: itag=\"251\" mime_type=\"audio/webm\" abr=\"160kbps\" acodec=\"opus\" progressive=\"False\" type=\"audio\">\n"
     ]
    },
    {
     "name": "stderr",
     "output_type": "stream",
     "text": [
      "C:\\Users\\Mohit Kumar\\AppData\\Local\\Temp\\ipykernel_23204\\3252430289.py:1: DeprecationWarning: Call to deprecated function all (This object can be treated as a list, all() is useless).\n",
      "  streams=yt.streams.all()\n"
     ]
    }
   ],
   "source": [
    "streams=yt.streams.all()\n",
    "for stream in streams:\n",
    "    print(stream)"
   ]
  },
  {
   "cell_type": "code",
   "execution_count": 13,
   "id": "2e4bb4b1",
   "metadata": {},
   "outputs": [],
   "source": [
    "audio_streams = yt.streams.filter(only_audio=True)\n",
    "video_streams = yt.streams.filter(only_video=True)\n",
    "hd_streams = yt.streams.filter(res=\"720p\")\n"
   ]
  },
  {
   "cell_type": "code",
   "execution_count": 14,
   "id": "18eef562",
   "metadata": {},
   "outputs": [
    {
     "data": {
      "text/plain": [
       "'C:\\\\Users\\\\Mohit Kumar\\\\Chat Application using React JS - Build and Deploy a Chat App in 1 Hour (Microsoft Teams).webm'"
      ]
     },
     "execution_count": 14,
     "metadata": {},
     "output_type": "execute_result"
    }
   ],
   "source": [
    "streams=yt.streams.get_by_itag(22)\n",
    "stream.download()"
   ]
  },
  {
   "cell_type": "code",
   "execution_count": 15,
   "id": "b6f373dd",
   "metadata": {},
   "outputs": [
    {
     "name": "stdout",
     "output_type": "stream",
     "text": [
      "Download Completed\n"
     ]
    }
   ],
   "source": [
    "# Assuming you've filtered the streams as mentioned before\n",
    "# Let's say you want to download the HD stream\n",
    "hd_stream = yt.streams.filter(res=\"720p\").first()\n",
    "\n",
    "# Now, you can download the selected stream\n",
    "hd_stream.download()\n",
    "\n",
    "print('Download Completed')\n"
   ]
  },
  {
   "cell_type": "code",
   "execution_count": 16,
   "id": "fdf2b365",
   "metadata": {},
   "outputs": [
    {
     "name": "stdout",
     "output_type": "stream",
     "text": [
      "Download Completed\n"
     ]
    }
   ],
   "source": [
    "# Filter audio streams\n",
    "audio_streams = yt.streams.filter(only_audio=True)\n",
    "\n",
    "# Assuming you want to download the highest quality audio stream\n",
    "audio_stream = audio_streams.first()\n",
    "\n",
    "# Download the audio stream\n",
    "audio_stream.download()\n",
    "\n",
    "print('Download Completed')\n"
   ]
  },
  {
   "cell_type": "code",
   "execution_count": null,
   "id": "ca9e1607",
   "metadata": {},
   "outputs": [],
   "source": []
  },
  {
   "cell_type": "code",
   "execution_count": null,
   "id": "cd34c7e1",
   "metadata": {},
   "outputs": [],
   "source": [
    "\n"
   ]
  },
  {
   "cell_type": "code",
   "execution_count": null,
   "id": "83207edc",
   "metadata": {},
   "outputs": [],
   "source": []
  },
  {
   "cell_type": "code",
   "execution_count": null,
   "id": "092b666e",
   "metadata": {},
   "outputs": [],
   "source": [
    "\n"
   ]
  },
  {
   "cell_type": "code",
   "execution_count": null,
   "id": "0367443c",
   "metadata": {},
   "outputs": [],
   "source": []
  },
  {
   "cell_type": "code",
   "execution_count": null,
   "id": "142af149",
   "metadata": {},
   "outputs": [],
   "source": []
  }
 ],
 "metadata": {
  "kernelspec": {
   "display_name": "Python 3 (ipykernel)",
   "language": "python",
   "name": "python3"
  },
  "language_info": {
   "codemirror_mode": {
    "name": "ipython",
    "version": 3
   },
   "file_extension": ".py",
   "mimetype": "text/x-python",
   "name": "python",
   "nbconvert_exporter": "python",
   "pygments_lexer": "ipython3",
   "version": "3.11.5"
  }
 },
 "nbformat": 4,
 "nbformat_minor": 5
}
